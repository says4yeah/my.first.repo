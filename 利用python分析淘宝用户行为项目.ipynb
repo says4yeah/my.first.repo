{
 "cells": [
  {
   "cell_type": "markdown",
   "metadata": {},
   "source": [
    "### 一、项目介绍\n",
    "淘宝网现在是家喻户晓的购物网站，阿里巴巴在2009年推出的“双十一”和在2011年推出的“双十二”，成为了中国乃至全球的一个标志性“购物狂欢节”，每年的11月11日和12月12日，成为了购物者每年的最期待的日子。\n",
    "\n",
    "淘宝的发展，离不开智能手机的普及，智能手机的快速普及直接促进了移动互联网时代发展。在2011年移动互联网元年，无线淘宝支付宝交易额占比淘宝网比重紧占比的1.77%，到2015年移动端下单量占比达74%，发生了巨大变化。\n",
    "\n",
    "此项目利用python，分析我们日常最熟悉的淘宝后台数据，了解一个购物网站是怎么运营，应该怎么运营。\n",
    "\n",
    "#### 提出问题：\n",
    "\n",
    "1.流量指标：PV（APP总访问量）、UV（APP独立访问数），一天内各个时刻的访客数、近一个月内每天访问量走势、波动情况\n",
    "\n",
    "2.用户漏斗转化情况如何\n",
    "\n",
    "3.用户价值情况如何"
   ]
  },
  {
   "cell_type": "markdown",
   "metadata": {},
   "source": [
    "### 二、数据准备\n",
    "1.数据集来源：\n",
    "User Behavior Data on Taobao App 数据集阿里云\n",
    "\n",
    "数据集包含了2014年11月18日至2014年12月18日之间，淘宝APP移动端用户行为数据。\n",
    "\n",
    "2.字段描述\n",
    "\n",
    "user_id 用户ID \n",
    "\n",
    "item_id 商品ID\n",
    "\n",
    "behavior_type 行为类别\n",
    "\n",
    "user_geohash 用户地址\n",
    "\n",
    "item_category 商品类别\n",
    "\n",
    "time 登录时间"
   ]
  },
  {
   "cell_type": "markdown",
   "metadata": {},
   "source": [
    "### 三、数据处理\n",
    "1.数据导入"
   ]
  },
  {
   "cell_type": "code",
   "execution_count": 1,
   "metadata": {},
   "outputs": [
    {
     "name": "stdout",
     "output_type": "stream",
     "text": [
      "<class 'pandas.core.frame.DataFrame'>\n",
      "RangeIndex: 12256906 entries, 0 to 12256905\n",
      "Data columns (total 6 columns):\n",
      " #   Column         Dtype \n",
      "---  ------         ----- \n",
      " 0   user_id        int64 \n",
      " 1   item_id        int64 \n",
      " 2   behavior_type  int64 \n",
      " 3   user_geohash   object\n",
      " 4   item_category  int64 \n",
      " 5   time           object\n",
      "dtypes: int64(4), object(2)\n",
      "memory usage: 561.1+ MB\n"
     ]
    }
   ],
   "source": [
    "#导入数据分析需要的包\n",
    "import pandas as pd\n",
    "import numpy as np\n",
    "import datetime\n",
    "#可视化包\n",
    "import matplotlib.pyplot as plt\n",
    "%matplotlib inline\n",
    "#忽略警告信息\n",
    "import warnings\n",
    "warnings.filterwarnings('ignore')\n",
    "#导入数据集\n",
    "userDF = pd.read_csv('tianchi_mobile_recommend_train_user.csv')\n",
    "#查看数据基本情况\n",
    "userDF.info()"
   ]
  },
  {
   "cell_type": "markdown",
   "metadata": {},
   "source": [
    "2.数据清洗\n",
    "（1）选择子集\n",
    "\n",
    "分析数据时，首先要选择自己需要的字段，然后查看各字段是否有缺失值"
   ]
  },
  {
   "cell_type": "code",
   "execution_count": 2,
   "metadata": {},
   "outputs": [
    {
     "data": {
      "text/plain": [
       "user_id                0\n",
       "item_id                0\n",
       "behavior_type          0\n",
       "user_geohash     8334824\n",
       "item_category          0\n",
       "time                   0\n",
       "dtype: int64"
      ]
     },
     "execution_count": 2,
     "metadata": {},
     "output_type": "execute_result"
    }
   ],
   "source": [
    "#查看缺失值数量\n",
    "userDF.isnull().sum()"
   ]
  },
  {
   "cell_type": "code",
   "execution_count": 3,
   "metadata": {},
   "outputs": [
    {
     "data": {
      "text/plain": [
       "(12256906, 6)"
      ]
     },
     "execution_count": 3,
     "metadata": {},
     "output_type": "execute_result"
    }
   ],
   "source": [
    "#查看数据集的行列数\n",
    "userDF.shape"
   ]
  },
  {
   "cell_type": "markdown",
   "metadata": {},
   "source": [
    "通过查看缺失值，发现user_geohash值大量缺失，这里做删除处理"
   ]
  },
  {
   "cell_type": "code",
   "execution_count": 4,
   "metadata": {},
   "outputs": [
    {
     "data": {
      "text/html": [
       "<div>\n",
       "<style scoped>\n",
       "    .dataframe tbody tr th:only-of-type {\n",
       "        vertical-align: middle;\n",
       "    }\n",
       "\n",
       "    .dataframe tbody tr th {\n",
       "        vertical-align: top;\n",
       "    }\n",
       "\n",
       "    .dataframe thead th {\n",
       "        text-align: right;\n",
       "    }\n",
       "</style>\n",
       "<table border=\"1\" class=\"dataframe\">\n",
       "  <thead>\n",
       "    <tr style=\"text-align: right;\">\n",
       "      <th></th>\n",
       "      <th>user_id</th>\n",
       "      <th>item_id</th>\n",
       "      <th>behavior_type</th>\n",
       "      <th>item_category</th>\n",
       "      <th>time</th>\n",
       "    </tr>\n",
       "  </thead>\n",
       "  <tbody>\n",
       "    <tr>\n",
       "      <th>0</th>\n",
       "      <td>98047837</td>\n",
       "      <td>232431562</td>\n",
       "      <td>1</td>\n",
       "      <td>4245</td>\n",
       "      <td>2014-12-06 02</td>\n",
       "    </tr>\n",
       "    <tr>\n",
       "      <th>1</th>\n",
       "      <td>97726136</td>\n",
       "      <td>383583590</td>\n",
       "      <td>1</td>\n",
       "      <td>5894</td>\n",
       "      <td>2014-12-09 20</td>\n",
       "    </tr>\n",
       "    <tr>\n",
       "      <th>2</th>\n",
       "      <td>98607707</td>\n",
       "      <td>64749712</td>\n",
       "      <td>1</td>\n",
       "      <td>2883</td>\n",
       "      <td>2014-12-18 11</td>\n",
       "    </tr>\n",
       "    <tr>\n",
       "      <th>3</th>\n",
       "      <td>98662432</td>\n",
       "      <td>320593836</td>\n",
       "      <td>1</td>\n",
       "      <td>6562</td>\n",
       "      <td>2014-12-06 10</td>\n",
       "    </tr>\n",
       "    <tr>\n",
       "      <th>4</th>\n",
       "      <td>98145908</td>\n",
       "      <td>290208520</td>\n",
       "      <td>1</td>\n",
       "      <td>13926</td>\n",
       "      <td>2014-12-16 21</td>\n",
       "    </tr>\n",
       "  </tbody>\n",
       "</table>\n",
       "</div>"
      ],
      "text/plain": [
       "    user_id    item_id  behavior_type  item_category           time\n",
       "0  98047837  232431562              1           4245  2014-12-06 02\n",
       "1  97726136  383583590              1           5894  2014-12-09 20\n",
       "2  98607707   64749712              1           2883  2014-12-18 11\n",
       "3  98662432  320593836              1           6562  2014-12-06 10\n",
       "4  98145908  290208520              1          13926  2014-12-16 21"
      ]
     },
     "execution_count": 4,
     "metadata": {},
     "output_type": "execute_result"
    }
   ],
   "source": [
    "#删除数据框的某一列\n",
    "userDF.drop('user_geohash',axis=1,inplace=True)\n",
    "#查看数据集\n",
    "userDF.head()"
   ]
  },
  {
   "cell_type": "markdown",
   "metadata": {},
   "source": [
    "从表中看出，原表user_geohash字段已删除\n",
    "\n",
    "（2）字段重命名\n",
    "\n",
    "本数据集这里不需要做重命名，忽略。\n",
    "\n",
    "（3）修改数据类型"
   ]
  },
  {
   "cell_type": "code",
   "execution_count": 5,
   "metadata": {},
   "outputs": [
    {
     "name": "stdout",
     "output_type": "stream",
     "text": [
      "<class 'pandas.core.frame.DataFrame'>\n",
      "RangeIndex: 12256906 entries, 0 to 12256905\n",
      "Data columns (total 5 columns):\n",
      " #   Column         Dtype \n",
      "---  ------         ----- \n",
      " 0   user_id        object\n",
      " 1   item_id        object\n",
      " 2   behavior_type  object\n",
      " 3   item_category  object\n",
      " 4   time           object\n",
      "dtypes: object(5)\n",
      "memory usage: 467.6+ MB\n"
     ]
    }
   ],
   "source": [
    "#修改数据类型\n",
    "userDF['user_id']=userDF['user_id'].astype('object')\n",
    "userDF['item_id']=userDF['item_id'].astype('object')\n",
    "userDF['behavior_type']=userDF['behavior_type'].astype('object')\n",
    "userDF['item_category']=userDF['item_category'].astype('object')\n",
    "#查看数据基本情况\n",
    "userDF.info()"
   ]
  },
  {
   "cell_type": "markdown",
   "metadata": {},
   "source": [
    "(4)删除重复行"
   ]
  },
  {
   "cell_type": "code",
   "execution_count": 6,
   "metadata": {},
   "outputs": [
    {
     "data": {
      "text/html": [
       "<div>\n",
       "<style scoped>\n",
       "    .dataframe tbody tr th:only-of-type {\n",
       "        vertical-align: middle;\n",
       "    }\n",
       "\n",
       "    .dataframe tbody tr th {\n",
       "        vertical-align: top;\n",
       "    }\n",
       "\n",
       "    .dataframe thead th {\n",
       "        text-align: right;\n",
       "    }\n",
       "</style>\n",
       "<table border=\"1\" class=\"dataframe\">\n",
       "  <thead>\n",
       "    <tr style=\"text-align: right;\">\n",
       "      <th></th>\n",
       "      <th>user_id</th>\n",
       "      <th>item_id</th>\n",
       "      <th>behavior_type</th>\n",
       "      <th>item_category</th>\n",
       "      <th>time</th>\n",
       "    </tr>\n",
       "  </thead>\n",
       "  <tbody>\n",
       "    <tr>\n",
       "      <th>0</th>\n",
       "      <td>98047837</td>\n",
       "      <td>232431562</td>\n",
       "      <td>1</td>\n",
       "      <td>4245</td>\n",
       "      <td>2014-12-06 02</td>\n",
       "    </tr>\n",
       "    <tr>\n",
       "      <th>1</th>\n",
       "      <td>97726136</td>\n",
       "      <td>383583590</td>\n",
       "      <td>1</td>\n",
       "      <td>5894</td>\n",
       "      <td>2014-12-09 20</td>\n",
       "    </tr>\n",
       "    <tr>\n",
       "      <th>2</th>\n",
       "      <td>98607707</td>\n",
       "      <td>64749712</td>\n",
       "      <td>1</td>\n",
       "      <td>2883</td>\n",
       "      <td>2014-12-18 11</td>\n",
       "    </tr>\n",
       "    <tr>\n",
       "      <th>3</th>\n",
       "      <td>98662432</td>\n",
       "      <td>320593836</td>\n",
       "      <td>1</td>\n",
       "      <td>6562</td>\n",
       "      <td>2014-12-06 10</td>\n",
       "    </tr>\n",
       "    <tr>\n",
       "      <th>4</th>\n",
       "      <td>98145908</td>\n",
       "      <td>290208520</td>\n",
       "      <td>1</td>\n",
       "      <td>13926</td>\n",
       "      <td>2014-12-16 21</td>\n",
       "    </tr>\n",
       "    <tr>\n",
       "      <th>...</th>\n",
       "      <td>...</td>\n",
       "      <td>...</td>\n",
       "      <td>...</td>\n",
       "      <td>...</td>\n",
       "      <td>...</td>\n",
       "    </tr>\n",
       "    <tr>\n",
       "      <th>12256885</th>\n",
       "      <td>91530370</td>\n",
       "      <td>384717078</td>\n",
       "      <td>2</td>\n",
       "      <td>7876</td>\n",
       "      <td>2014-12-02 23</td>\n",
       "    </tr>\n",
       "    <tr>\n",
       "      <th>12256886</th>\n",
       "      <td>91530370</td>\n",
       "      <td>293543750</td>\n",
       "      <td>3</td>\n",
       "      <td>552</td>\n",
       "      <td>2014-12-04 23</td>\n",
       "    </tr>\n",
       "    <tr>\n",
       "      <th>12256900</th>\n",
       "      <td>91530370</td>\n",
       "      <td>101985395</td>\n",
       "      <td>3</td>\n",
       "      <td>12090</td>\n",
       "      <td>2014-12-12 21</td>\n",
       "    </tr>\n",
       "    <tr>\n",
       "      <th>12256903</th>\n",
       "      <td>93812622</td>\n",
       "      <td>234391443</td>\n",
       "      <td>1</td>\n",
       "      <td>8765</td>\n",
       "      <td>2014-12-11 16</td>\n",
       "    </tr>\n",
       "    <tr>\n",
       "      <th>12256904</th>\n",
       "      <td>93812622</td>\n",
       "      <td>26452000</td>\n",
       "      <td>1</td>\n",
       "      <td>7951</td>\n",
       "      <td>2014-12-08 22</td>\n",
       "    </tr>\n",
       "  </tbody>\n",
       "</table>\n",
       "<p>6213379 rows × 5 columns</p>\n",
       "</div>"
      ],
      "text/plain": [
       "           user_id    item_id behavior_type item_category           time\n",
       "0         98047837  232431562             1          4245  2014-12-06 02\n",
       "1         97726136  383583590             1          5894  2014-12-09 20\n",
       "2         98607707   64749712             1          2883  2014-12-18 11\n",
       "3         98662432  320593836             1          6562  2014-12-06 10\n",
       "4         98145908  290208520             1         13926  2014-12-16 21\n",
       "...            ...        ...           ...           ...            ...\n",
       "12256885  91530370  384717078             2          7876  2014-12-02 23\n",
       "12256886  91530370  293543750             3           552  2014-12-04 23\n",
       "12256900  91530370  101985395             3         12090  2014-12-12 21\n",
       "12256903  93812622  234391443             1          8765  2014-12-11 16\n",
       "12256904  93812622   26452000             1          7951  2014-12-08 22\n",
       "\n",
       "[6213379 rows x 5 columns]"
      ]
     },
     "execution_count": 6,
     "metadata": {},
     "output_type": "execute_result"
    }
   ],
   "source": [
    "userDF.drop_duplicates(subset=['user_id','item_id','behavior_type','item_category','time'],keep='first')"
   ]
  },
  {
   "cell_type": "markdown",
   "metadata": {},
   "source": [
    "删除后，剩余6213379行"
   ]
  },
  {
   "cell_type": "markdown",
   "metadata": {},
   "source": [
    "（5）数据表优化"
   ]
  },
  {
   "cell_type": "markdown",
   "metadata": {},
   "source": [
    "在表中新增日期和小时字段，分别命名“date”、“hour”\n",
    "\n",
    "先将“time”转换为datetime数据类型的时间序列\n"
   ]
  },
  {
   "cell_type": "code",
   "execution_count": 7,
   "metadata": {},
   "outputs": [],
   "source": [
    "userDF['time']=pd.to_datetime(userDF.time)"
   ]
  },
  {
   "cell_type": "code",
   "execution_count": 8,
   "metadata": {},
   "outputs": [
    {
     "data": {
      "text/plain": [
       "user_id                  object\n",
       "item_id                  object\n",
       "behavior_type            object\n",
       "item_category            object\n",
       "time             datetime64[ns]\n",
       "dtype: object"
      ]
     },
     "execution_count": 8,
     "metadata": {},
     "output_type": "execute_result"
    }
   ],
   "source": [
    "#查看转化后的数据类型\n",
    "userDF.dtypes"
   ]
  },
  {
   "cell_type": "markdown",
   "metadata": {},
   "source": [
    "新增date,hour字段"
   ]
  },
  {
   "cell_type": "code",
   "execution_count": 9,
   "metadata": {},
   "outputs": [
    {
     "data": {
      "text/html": [
       "<div>\n",
       "<style scoped>\n",
       "    .dataframe tbody tr th:only-of-type {\n",
       "        vertical-align: middle;\n",
       "    }\n",
       "\n",
       "    .dataframe tbody tr th {\n",
       "        vertical-align: top;\n",
       "    }\n",
       "\n",
       "    .dataframe thead th {\n",
       "        text-align: right;\n",
       "    }\n",
       "</style>\n",
       "<table border=\"1\" class=\"dataframe\">\n",
       "  <thead>\n",
       "    <tr style=\"text-align: right;\">\n",
       "      <th></th>\n",
       "      <th>user_id</th>\n",
       "      <th>item_id</th>\n",
       "      <th>behavior_type</th>\n",
       "      <th>item_category</th>\n",
       "      <th>time</th>\n",
       "      <th>date</th>\n",
       "      <th>hour</th>\n",
       "    </tr>\n",
       "  </thead>\n",
       "  <tbody>\n",
       "    <tr>\n",
       "      <th>0</th>\n",
       "      <td>98047837</td>\n",
       "      <td>232431562</td>\n",
       "      <td>1</td>\n",
       "      <td>4245</td>\n",
       "      <td>2014-12-06 02:00:00</td>\n",
       "      <td>2014-12-06</td>\n",
       "      <td>2</td>\n",
       "    </tr>\n",
       "    <tr>\n",
       "      <th>1</th>\n",
       "      <td>97726136</td>\n",
       "      <td>383583590</td>\n",
       "      <td>1</td>\n",
       "      <td>5894</td>\n",
       "      <td>2014-12-09 20:00:00</td>\n",
       "      <td>2014-12-09</td>\n",
       "      <td>20</td>\n",
       "    </tr>\n",
       "    <tr>\n",
       "      <th>2</th>\n",
       "      <td>98607707</td>\n",
       "      <td>64749712</td>\n",
       "      <td>1</td>\n",
       "      <td>2883</td>\n",
       "      <td>2014-12-18 11:00:00</td>\n",
       "      <td>2014-12-18</td>\n",
       "      <td>11</td>\n",
       "    </tr>\n",
       "    <tr>\n",
       "      <th>3</th>\n",
       "      <td>98662432</td>\n",
       "      <td>320593836</td>\n",
       "      <td>1</td>\n",
       "      <td>6562</td>\n",
       "      <td>2014-12-06 10:00:00</td>\n",
       "      <td>2014-12-06</td>\n",
       "      <td>10</td>\n",
       "    </tr>\n",
       "    <tr>\n",
       "      <th>4</th>\n",
       "      <td>98145908</td>\n",
       "      <td>290208520</td>\n",
       "      <td>1</td>\n",
       "      <td>13926</td>\n",
       "      <td>2014-12-16 21:00:00</td>\n",
       "      <td>2014-12-16</td>\n",
       "      <td>21</td>\n",
       "    </tr>\n",
       "  </tbody>\n",
       "</table>\n",
       "</div>"
      ],
      "text/plain": [
       "    user_id    item_id behavior_type item_category                time  \\\n",
       "0  98047837  232431562             1          4245 2014-12-06 02:00:00   \n",
       "1  97726136  383583590             1          5894 2014-12-09 20:00:00   \n",
       "2  98607707   64749712             1          2883 2014-12-18 11:00:00   \n",
       "3  98662432  320593836             1          6562 2014-12-06 10:00:00   \n",
       "4  98145908  290208520             1         13926 2014-12-16 21:00:00   \n",
       "\n",
       "        date  hour  \n",
       "0 2014-12-06     2  \n",
       "1 2014-12-09    20  \n",
       "2 2014-12-18    11  \n",
       "3 2014-12-06    10  \n",
       "4 2014-12-16    21  "
      ]
     },
     "execution_count": 9,
     "metadata": {},
     "output_type": "execute_result"
    }
   ],
   "source": [
    "userDF['date'] = userDF.time.astype('datetime64[D]')\n",
    "userDF['hour'] = userDF.time.apply(lambda x: x.hour)\n",
    "#查看表\n",
    "userDF.head()"
   ]
  },
  {
   "cell_type": "markdown",
   "metadata": {},
   "source": [
    "### 四、数据分析\n",
    "1.流量指标分析\n",
    "\n",
    "（1）查看PV"
   ]
  },
  {
   "cell_type": "code",
   "execution_count": 10,
   "metadata": {},
   "outputs": [
    {
     "data": {
      "text/plain": [
       "behavior_type\n",
       "1    11550581\n",
       "2      242556\n",
       "3      343564\n",
       "4      120205\n",
       "Name: user_id, dtype: int64"
      ]
     },
     "execution_count": 10,
     "metadata": {},
     "output_type": "execute_result"
    }
   ],
   "source": [
    "#行为类型数量\n",
    "behavior_type_num=userDF.groupby('behavior_type')['user_id'].count()\n",
    "behavior_type_num"
   ]
  },
  {
   "cell_type": "markdown",
   "metadata": {},
   "source": [
    "上述4个行为类型设定时已规定：1代表pv（访问），2代表fav（收藏），3代表cart（加购），4代表buy（购买）\n",
    "\n",
    "由图可知，总访问PV为11550581\n",
    "\n",
    "（2）查看UV"
   ]
  },
  {
   "cell_type": "code",
   "execution_count": 11,
   "metadata": {},
   "outputs": [
    {
     "name": "stdout",
     "output_type": "stream",
     "text": [
      "user_id的唯一值: 10000\n",
      "item_id的唯一值: 2876947\n",
      "behavior_type的唯一值: 4\n",
      "item_category的唯一值: 8916\n",
      "time的唯一值: 744\n",
      "date的唯一值: 31\n",
      "hour的唯一值: 24\n"
     ]
    }
   ],
   "source": [
    "#查看每列的唯一值\n",
    "def uniqueValue(data):\n",
    "    for column in data.columns:\n",
    "#format 格式化函数\n",
    "        print('{}的唯一值:'.format(column),len(data[column].unique()))\n",
    "uniqueValue(userDF)"
   ]
  },
  {
   "cell_type": "markdown",
   "metadata": {},
   "source": [
    "由上图可知，总访问UV为10000\n",
    "\n",
    "（3）图形展示\n",
    "\n",
    "a.一天内各个时刻的访问量分布"
   ]
  },
  {
   "cell_type": "code",
   "execution_count": 12,
   "metadata": {},
   "outputs": [
    {
     "data": {
      "text/plain": [
       "Text(0.5, 1.0, 'uv_hour')"
      ]
     },
     "execution_count": 12,
     "metadata": {},
     "output_type": "execute_result"
    },
    {
     "data": {
      "image/png": "[encoded data removed]",
      "text/plain": [
       "<Figure size 432x288 with 2 Axes>"
      ]
     },
     "metadata": {
      "needs_background": "light"
     },
     "output_type": "display_data"
    }
   ],
   "source": [
    "pv_hour=userDF.groupby('hour')['user_id'].count().reset_index().rename(columns={'user_id':'pv'})\n",
    "uv_hour=userDF.groupby('hour')['user_id'].apply(lambda x:x.drop_duplicates().count()).reset_index().rename(columns={'user_id':'uv'})\n",
    "fig,axes=plt.subplots(2,1,sharex=True)\n",
    "pv_hour.plot(x='hour',y='pv',ax=axes[0])\n",
    "uv_hour.plot(x='hour',y='uv',ax=axes[1])\n",
    "axes[0].set_title('pv_hour')\n",
    "axes[1].set_title('uv_hour')"
   ]
  },
  {
   "cell_type": "markdown",
   "metadata": {},
   "source": [
    "pv和uv在一天内各时间段走势大体相同，凌晨0-5点都呈下降趋势，随后逐渐上升，在20-23点出现一天中的最高峰。\n",
    "\n",
    "b.近一月每日访问量分布"
   ]
  },
  {
   "cell_type": "code",
   "execution_count": 13,
   "metadata": {},
   "outputs": [
    {
     "data": {
      "text/plain": [
       "Text(0.5, 1.0, 'uv_daily')"
      ]
     },
     "execution_count": 13,
     "metadata": {},
     "output_type": "execute_result"
    },
    {
     "data": {
      "image/png": "[encoded data removed]",
      "text/plain": [
       "<Figure size 432x288 with 2 Axes>"
      ]
     },
     "metadata": {
      "needs_background": "light"
     },
     "output_type": "display_data"
    }
   ],
   "source": [
    "pv_daily=userDF.groupby('date')['user_id'].count().reset_index().rename(columns={'user_id':'pv'})\n",
    "uv_daily=userDF.groupby('date')['user_id'].apply(lambda x:x.drop_duplicates().count()).reset_index().rename(columns={'user_id':'uv'})\n",
    "fig,axes=plt.subplots(2,1,sharex=True)\n",
    "pv_daily.plot(x='date',y='pv',ax=axes[0])\n",
    "uv_daily.plot(x='date',y='uv',ax=axes[1])\n",
    "axes[0].set_title('pv_daily')\n",
    "axes[1].set_title('uv_daily')"
   ]
  },
  {
   "cell_type": "markdown",
   "metadata": {},
   "source": [
    "从图中看出，12日pv和uv都出现高峰，其他日期无明显波动"
   ]
  },
  {
   "cell_type": "markdown",
   "metadata": {},
   "source": [
    "2、这里利用AARRR模型，分析用户在“浏览——收藏——加购物车——购买”各个流程环节的转化率"
   ]
  },
  {
   "cell_type": "code",
   "execution_count": 14,
   "metadata": {},
   "outputs": [],
   "source": [
    "#访问量\n",
    "pv=behavior_type_num[1]\n",
    "\n",
    "#收藏量\n",
    "fav=behavior_type_num[2]\n",
    "\n",
    "#加购物车数量\n",
    "cart=behavior_type_num[3]\n",
    "\n",
    "#购买量\n",
    "buy=behavior_type_num[4]\n",
    "\n",
    "#因为收藏和加购没有先后顺序，所以二者合并后计算转化率——收藏加购转化率\n",
    "\n",
    "#收藏加购转化率\n",
    "\n",
    "fav_cart_sum=fav+cart\n",
    "fav_cart_ratio=fav_cart_sum/pv*100\n",
    "\n",
    "#购买转化率\n",
    "buy_ratio=buy/fav_cart_sum*100"
   ]
  },
  {
   "cell_type": "markdown",
   "metadata": {},
   "source": [
    "(1)收藏加购转化率为："
   ]
  },
  {
   "cell_type": "code",
   "execution_count": 15,
   "metadata": {},
   "outputs": [
    {
     "data": {
      "text/plain": [
       "5.074376778103197"
      ]
     },
     "execution_count": 15,
     "metadata": {},
     "output_type": "execute_result"
    }
   ],
   "source": [
    "fav_cart_ratio"
   ]
  },
  {
   "cell_type": "markdown",
   "metadata": {},
   "source": [
    "(2)加购转化率为："
   ]
  },
  {
   "cell_type": "code",
   "execution_count": 16,
   "metadata": {},
   "outputs": [
    {
     "data": {
      "text/plain": [
       "20.508598921722516"
      ]
     },
     "execution_count": 16,
     "metadata": {},
     "output_type": "execute_result"
    }
   ],
   "source": [
    "buy_ratio"
   ]
  },
  {
   "cell_type": "markdown",
   "metadata": {},
   "source": [
    "(3)绘制漏洞图："
   ]
  },
  {
   "cell_type": "code",
   "execution_count": 25,
   "metadata": {},
   "outputs": [
    {
     "data": {
      "application/javascript": [
       "new Promise(function(resolve, reject) {\n",
       "    var script = document.createElement(\"script\");\n",
       "    script.onload = resolve;\n",
       "    script.onerror = reject;\n",
       "    script.src = \"https://assets.pyecharts.org/assets/echarts.min.js\";\n",
       "    document.head.appendChild(script);\n",
       "}).then(() => {\n",
       "\n",
       "});"
      ],
      "text/plain": [
       "<pyecharts.render.display.Javascript at 0x7fc9875b4790>"
      ]
     },
     "execution_count": 25,
     "metadata": {},
     "output_type": "execute_result"
    }
   ],
   "source": [
    "from pyecharts.charts import Funnel\n",
    "from pyecharts import options as opts\n",
    "\n",
    "# 用户数据\n",
    "cate = ['浏览','收藏+加购','购买']\n",
    "data = [11550581,586120,120205]\n",
    "\n",
    "funnel = (Funnel()\n",
    "          .add(\"用户数\",[list(z) for z in zip(cate, data)], \n",
    "               sort_='descending',\n",
    "               label_opts=opts.LabelOpts(position=\"inside\"))\n",
    "          .set_global_opts(title_opts=opts.TitleOpts(title=\"漏斗图\", subtitle=\"淘宝用户\"))\n",
    "           )\n",
    "          \n",
    "funnel.load_javascript()    \n"
   ]
  },
  {
   "cell_type": "code",
   "execution_count": 27,
   "metadata": {},
   "outputs": [],
   "source": [
    "#Pyecharts 在 Jupyter Lab 中生成 HTML，能夠讓使用者直接與圖表進行互動，也因此對於閱讀上更為直覺與方便。然而，在使用前必須進行下列的設置（僅限 Jupyter Lab）：\n",
    "# 調用 CurrentConfig 來調整 Jupyter 的顯示設定\n",
    "from pyecharts.globals import CurrentConfig, NotebookType\n",
    "CurrentConfig.NOTEBOOK_TYPE = NotebookType.JUPYTER_LAB"
   ]
  },
  {
   "cell_type": "code",
   "execution_count": 28,
   "metadata": {},
   "outputs": [
    {
     "data": {
      "text/html": [
       "<!DOCTYPE html>\n",
       "<html>\n",
       "<head>\n",
       "    <meta charset=\"UTF-8\">\n",
       "</head>\n",
       "<body>\n",
       "        <div id=\"06cb7d112f5048e9bf9a26bf581d8a6d\" class=\"chart-container\" style=\"width:900px; height:500px;\"></div>\n",
       "    <script>\n",
       "        var chart_06cb7d112f5048e9bf9a26bf581d8a6d = echarts.init(\n",
       "            document.getElementById('06cb7d112f5048e9bf9a26bf581d8a6d'), 'white', {renderer: 'canvas'});\n",
       "        var option_06cb7d112f5048e9bf9a26bf581d8a6d = {\n",
       "    \"animation\": true,\n",
       "    \"animationThreshold\": 2000,\n",
       "    \"animationDuration\": 1000,\n",
       "    \"animationEasing\": \"cubicOut\",\n",
       "    \"animationDelay\": 0,\n",
       "    \"animationDurationUpdate\": 300,\n",
       "    \"animationEasingUpdate\": \"cubicOut\",\n",
       "    \"animationDelayUpdate\": 0,\n",
       "    \"color\": [\n",
       "        \"#c23531\",\n",
       "        \"#2f4554\",\n",
       "        \"#61a0a8\",\n",
       "        \"#d48265\",\n",
       "        \"#749f83\",\n",
       "        \"#ca8622\",\n",
       "        \"#bda29a\",\n",
       "        \"#6e7074\",\n",
       "        \"#546570\",\n",
       "        \"#c4ccd3\",\n",
       "        \"#f05b72\",\n",
       "        \"#ef5b9c\",\n",
       "        \"#f47920\",\n",
       "        \"#905a3d\",\n",
       "        \"#fab27b\",\n",
       "        \"#2a5caa\",\n",
       "        \"#444693\",\n",
       "        \"#726930\",\n",
       "        \"#b2d235\",\n",
       "        \"#6d8346\",\n",
       "        \"#ac6767\",\n",
       "        \"#1d953f\",\n",
       "        \"#6950a1\",\n",
       "        \"#918597\"\n",
       "    ],\n",
       "    \"series\": [\n",
       "        {\n",
       "            \"type\": \"funnel\",\n",
       "            \"name\": \"\\u7528\\u6237\\u6570\",\n",
       "            \"data\": [\n",
       "                {\n",
       "                    \"name\": \"\\u6d4f\\u89c8\",\n",
       "                    \"value\": 11550581\n",
       "                },\n",
       "                {\n",
       "                    \"name\": \"\\u6536\\u85cf+\\u52a0\\u8d2d\",\n",
       "                    \"value\": 586120\n",
       "                },\n",
       "                {\n",
       "                    \"name\": \"\\u8d2d\\u4e70\",\n",
       "                    \"value\": 120205\n",
       "                }\n",
       "            ],\n",
       "            \"sort\": \"descending\",\n",
       "            \"gap\": 0,\n",
       "            \"label\": {\n",
       "                \"show\": true,\n",
       "                \"position\": \"inside\",\n",
       "                \"margin\": 8\n",
       "            }\n",
       "        }\n",
       "    ],\n",
       "    \"legend\": [\n",
       "        {\n",
       "            \"data\": [\n",
       "                \"\\u6536\\u85cf+\\u52a0\\u8d2d\",\n",
       "                \"\\u6d4f\\u89c8\",\n",
       "                \"\\u8d2d\\u4e70\"\n",
       "            ],\n",
       "            \"selected\": {\n",
       "                \"\\u6d4f\\u89c8\": true,\n",
       "                \"\\u6536\\u85cf+\\u52a0\\u8d2d\": true,\n",
       "                \"\\u8d2d\\u4e70\": true\n",
       "            },\n",
       "            \"show\": true,\n",
       "            \"padding\": 5,\n",
       "            \"itemGap\": 10,\n",
       "            \"itemWidth\": 25,\n",
       "            \"itemHeight\": 14\n",
       "        }\n",
       "    ],\n",
       "    \"tooltip\": {\n",
       "        \"show\": true,\n",
       "        \"trigger\": \"item\",\n",
       "        \"triggerOn\": \"mousemove|click\",\n",
       "        \"axisPointer\": {\n",
       "            \"type\": \"line\"\n",
       "        },\n",
       "        \"showContent\": true,\n",
       "        \"alwaysShowContent\": false,\n",
       "        \"showDelay\": 0,\n",
       "        \"hideDelay\": 100,\n",
       "        \"textStyle\": {\n",
       "            \"fontSize\": 14\n",
       "        },\n",
       "        \"borderWidth\": 0,\n",
       "        \"padding\": 5\n",
       "    },\n",
       "    \"title\": [\n",
       "        {\n",
       "            \"text\": \"\\u6f0f\\u6597\\u56fe\",\n",
       "            \"subtext\": \"\\u6dd8\\u5b9d\\u7528\\u6237\",\n",
       "            \"padding\": 5,\n",
       "            \"itemGap\": 10\n",
       "        }\n",
       "    ]\n",
       "};\n",
       "        chart_06cb7d112f5048e9bf9a26bf581d8a6d.setOption(option_06cb7d112f5048e9bf9a26bf581d8a6d);\n",
       "    </script>\n",
       "</body>\n",
       "</html>\n"
      ],
      "text/plain": [
       "<pyecharts.render.display.HTML at 0x7fc98758f100>"
      ]
     },
     "execution_count": 28,
     "metadata": {},
     "output_type": "execute_result"
    }
   ],
   "source": [
    "funnel.render_notebook()"
   ]
  },
  {
   "cell_type": "markdown",
   "metadata": {},
   "source": [
    "从漏斗图中看出，从浏览到收藏+加购，收窄非常明显，再到购买整体转化率非常低"
   ]
  },
  {
   "cell_type": "markdown",
   "metadata": {},
   "source": [
    "3、利用RFM模型对用户进行分层分析\n",
    "\n",
    "由于本数据集中并不涉及金额，所以本次分析仅采用R（最近购买时间）和F（购买频率）进行分析"
   ]
  },
  {
   "cell_type": "code",
   "execution_count": 18,
   "metadata": {},
   "outputs": [
    {
     "data": {
      "text/html": [
       "<div>\n",
       "<style scoped>\n",
       "    .dataframe tbody tr th:only-of-type {\n",
       "        vertical-align: middle;\n",
       "    }\n",
       "\n",
       "    .dataframe tbody tr th {\n",
       "        vertical-align: top;\n",
       "    }\n",
       "\n",
       "    .dataframe thead th {\n",
       "        text-align: right;\n",
       "    }\n",
       "</style>\n",
       "<table border=\"1\" class=\"dataframe\">\n",
       "  <thead>\n",
       "    <tr style=\"text-align: right;\">\n",
       "      <th></th>\n",
       "      <th>user_id</th>\n",
       "      <th>recent</th>\n",
       "      <th>freq</th>\n",
       "      <th>recent_value</th>\n",
       "      <th>freq_value</th>\n",
       "      <th>rfm</th>\n",
       "    </tr>\n",
       "  </thead>\n",
       "  <tbody>\n",
       "    <tr>\n",
       "      <th>0</th>\n",
       "      <td>4913</td>\n",
       "      <td>4</td>\n",
       "      <td>6</td>\n",
       "      <td>2</td>\n",
       "      <td>1</td>\n",
       "      <td>21</td>\n",
       "    </tr>\n",
       "    <tr>\n",
       "      <th>1</th>\n",
       "      <td>6118</td>\n",
       "      <td>3</td>\n",
       "      <td>1</td>\n",
       "      <td>2</td>\n",
       "      <td>1</td>\n",
       "      <td>21</td>\n",
       "    </tr>\n",
       "    <tr>\n",
       "      <th>2</th>\n",
       "      <td>7528</td>\n",
       "      <td>7</td>\n",
       "      <td>6</td>\n",
       "      <td>1</td>\n",
       "      <td>1</td>\n",
       "      <td>11</td>\n",
       "    </tr>\n",
       "    <tr>\n",
       "      <th>3</th>\n",
       "      <td>7591</td>\n",
       "      <td>7</td>\n",
       "      <td>21</td>\n",
       "      <td>1</td>\n",
       "      <td>2</td>\n",
       "      <td>12</td>\n",
       "    </tr>\n",
       "    <tr>\n",
       "      <th>4</th>\n",
       "      <td>12645</td>\n",
       "      <td>6</td>\n",
       "      <td>8</td>\n",
       "      <td>2</td>\n",
       "      <td>1</td>\n",
       "      <td>21</td>\n",
       "    </tr>\n",
       "  </tbody>\n",
       "</table>\n",
       "</div>"
      ],
      "text/plain": [
       "   user_id  recent  freq recent_value freq_value rfm\n",
       "0     4913       4     6            2          1  21\n",
       "1     6118       3     1            2          1  21\n",
       "2     7528       7     6            1          1  11\n",
       "3     7591       7    21            1          2  12\n",
       "4    12645       6     8            2          1  21"
      ]
     },
     "execution_count": 18,
     "metadata": {},
     "output_type": "execute_result"
    }
   ],
   "source": [
    "from datetime import datetime\n",
    "datenow=datetime(2014,12,20)\n",
    "#每位用户最近购买时间\n",
    "recent_buy_time=userDF[userDF.behavior_type==4].groupby('user_id').date.apply(lambda x:datetime(2014,12,20)-x.sort_values().iloc[-1]).reset_index().rename(columns={'date':'recent'})\n",
    "recent_buy_time.recent=recent_buy_time.recent.map(lambda x:x.days)\n",
    "#每个用户消费频率\n",
    "buy_freq=userDF[userDF.behavior_type==4].groupby('user_id').date.count().reset_index().rename(columns={'date':'freq'})\n",
    "rfm=pd.merge(recent_buy_time,buy_freq,left_on='user_id',right_on='user_id',how='outer')\n",
    "#将各维度分成两个程度,分数越高越好\n",
    "rfm['recent_value']=pd.qcut(rfm.recent,2,labels=['2','1'])\n",
    "rfm['freq_value']=pd.qcut(rfm.freq,2,labels=['1','2'])\n",
    "rfm['rfm']=rfm['recent_value'].str.cat(rfm['freq_value'])\n",
    "rfm.head()"
   ]
  },
  {
   "cell_type": "markdown",
   "metadata": {},
   "source": [
    "分布对rfm各值进行计数统计"
   ]
  },
  {
   "cell_type": "code",
   "execution_count": 19,
   "metadata": {},
   "outputs": [
    {
     "data": {
      "text/plain": [
       "3179"
      ]
     },
     "execution_count": 19,
     "metadata": {},
     "output_type": "execute_result"
    }
   ],
   "source": [
    "rfm['rfm'].value_counts()['22']"
   ]
  },
  {
   "cell_type": "code",
   "execution_count": 20,
   "metadata": {},
   "outputs": [
    {
     "data": {
      "text/plain": [
       "1721"
      ]
     },
     "execution_count": 20,
     "metadata": {},
     "output_type": "execute_result"
    }
   ],
   "source": [
    "rfm['rfm'].value_counts()['21']"
   ]
  },
  {
   "cell_type": "code",
   "execution_count": 21,
   "metadata": {},
   "outputs": [
    {
     "data": {
      "text/plain": [
       "1219"
      ]
     },
     "execution_count": 21,
     "metadata": {},
     "output_type": "execute_result"
    }
   ],
   "source": [
    "rfm['rfm'].value_counts()['12']"
   ]
  },
  {
   "cell_type": "code",
   "execution_count": 22,
   "metadata": {},
   "outputs": [
    {
     "data": {
      "text/plain": [
       "2767"
      ]
     },
     "execution_count": 22,
     "metadata": {},
     "output_type": "execute_result"
    }
   ],
   "source": [
    "rfm['rfm'].value_counts()['11']"
   ]
  },
  {
   "cell_type": "markdown",
   "metadata": {},
   "source": [
    "由结果可知，22用户有3179，占比最高，忠诚度和购买频率都是最高，其次是11用户有2767，仅次于22用户，但此用户是高危易流失人群。"
   ]
  },
  {
   "cell_type": "markdown",
   "metadata": {},
   "source": [
    "五、总结\n",
    "\n",
    "1.通过流量指标分析及建议\n",
    "\n",
    "2014年11月18日至2014年12月18日，12256905条数据中，总pv为11550581，总uv为10000。用户访问的每日高峰期为19点-23点之间，属于一天中相对时间最自由放松的时间段，用户点击浏览相对其他时间段较高，可以在此时间段集中推荐用户感兴趣商品，来提升转化率；同时在其他时间段，可以设置整点抢购等促销手段，来提升整天活跃度。日常访问数无明显的异常波动，因为“双十二购物狂欢节”促销活动，12月12日出现明显波动，pv当天接近7万，uv当天接近8千，属于这段时间的最高峰。\n",
    "\n",
    "2.通过AARRR模型分析及建议\n",
    "\n",
    "从浏览到收藏加购转化率为5.07%，从收藏加购到购买的转化率为20.5%，最后真正购买的转化率仅为1.03%，购买转化率很低。首先应该加强各环节的运营，“千人千面”个性化展示，推送客户敢兴趣的商品，结合节日、事件等，采取各种营销活动，有效触达客户，来提高转化率。同时，应该扩大用户基数，提高用户覆盖率，对比拼多多的商业模式：“农村包围城市”，应该加快市场下沉速度，抢占人口基数庞大的三四线城市和农村。\n",
    "\n",
    "3.通过RFM模型对用户分层分析及建议\n",
    "\n",
    "此时间切片内，22用户占比最高，也是最优质客户，购买频次和购买力都比较出众；对于21这类忠诚度高而购买能力不足的，需要通过各种促销活动来增加用户的购买频率；11和12用户的忠诚度不高，但12用户相对11用户购买力较强，需要关注他们的购物习性做精准化营销；11用户为高危易流失人群，可采用外围引流，优化推荐算法，利用时下热门自媒体渠道，如：抖音，快手，微信公众号、微博等，结合用户推荐，提升用户留存度，同时，挖掘潜在用户。"
   ]
  },
  {
   "cell_type": "code",
   "execution_count": null,
   "metadata": {},
   "outputs": [],
   "source": []
  }
 ],
 "metadata": {
  "kernelspec": {
   "display_name": "Python 3",
   "language": "python",
   "name": "python3"
  },
  "language_info": {
   "codemirror_mode": {
    "name": "ipython",
    "version": 3
   },
   "file_extension": ".py",
   "mimetype": "text/x-python",
   "name": "python",
   "nbconvert_exporter": "python",
   "pygments_lexer": "ipython3",
   "version": "3.8.5"
  }
 },
 "nbformat": 4,
 "nbformat_minor": 4
}
