{
 "cells": [
  {
   "cell_type": "markdown",
   "metadata": {},
   "source": [
    "#### 1.订单表的长度，shape，columns\n",
    "#### 2.统计菜名的平均价格（amounts）\n",
    "#### 3.什么菜最受欢迎\n",
    "#### 4.哪个订单ID点的菜最多\n",
    "#### ..."
   ]
  },
  {
   "cell_type": "code",
   "execution_count": 1,
   "metadata": {},
   "outputs": [
    {
     "name": "stdout",
     "output_type": "stream",
     "text": [
      "<class 'pandas.core.frame.DataFrame'>\n",
      "Int64Index: 10037 entries, 0 to 3610\n",
      "Data columns (total 11 columns):\n",
      " #   Column            Non-Null Count  Dtype         \n",
      "---  ------            --------------  -----         \n",
      " 0   detail_id         10037 non-null  int64         \n",
      " 1   order_id          10037 non-null  int64         \n",
      " 2   dishes_id         10037 non-null  int64         \n",
      " 3   dishes_name       10037 non-null  object        \n",
      " 4   itemis_add        10037 non-null  int64         \n",
      " 5   counts            10037 non-null  int64         \n",
      " 6   amounts           10037 non-null  int64         \n",
      " 7   place_order_time  10037 non-null  datetime64[ns]\n",
      " 8   add_inprice       10037 non-null  int64         \n",
      " 9   picture_file      10037 non-null  object        \n",
      " 10  emp_id            10037 non-null  int64         \n",
      "dtypes: datetime64[ns](1), int64(8), object(2)\n",
      "memory usage: 941.0+ KB\n"
     ]
    }
   ],
   "source": [
    "import numpy as np\n",
    "import pandas as pd\n",
    "import matplotlib.pyplot as plt\n",
    "plt.rcParams['font.sans-serif'] = 'SimHei' ## 设置中文显示\n",
    "%matplotlib inline\n",
    "# 1.加载数据\n",
    "data1 = pd.read_excel('meal_order_detail.xlsx',sheet_name='meal_order_detail1')\n",
    "data2 = pd.read_excel('meal_order_detail.xlsx',sheet_name='meal_order_detail2')\n",
    "data3 = pd.read_excel('meal_order_detail.xlsx',sheet_name='meal_order_detail3')\n",
    "# 2.数据预处理（合并数据,NA等处理），分析数据\n",
    "data = pd.concat([data1,data2,data3],axis=0)  #按照行进行拼接数据\n",
    "# data.head(5)\n",
    "data.dropna(axis=1,inplace=True) #按照列删除na列，并且修改源数据\n",
    "data.info()"
   ]
  }
 ],
 "metadata": {
  "kernelspec": {
   "display_name": "Python 3",
   "language": "python",
   "name": "python3"
  },
  "language_info": {
   "codemirror_mode": {
    "name": "ipython",
    "version": 3
   },
   "file_extension": ".py",
   "mimetype": "text/x-python",
   "name": "python",
   "nbconvert_exporter": "python",
   "pygments_lexer": "ipython3",
   "version": "3.7.6"
  }
 },
 "nbformat": 4,
 "nbformat_minor": 4
}
