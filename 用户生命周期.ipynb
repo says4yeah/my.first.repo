{
 "cells": [
  {
   "cell_type": "code",
   "execution_count": 1,
   "metadata": {},
   "outputs": [],
   "source": [
    "import pandas as pd\n",
    "import numpy as np\n",
    "import csv\n",
    "import time\n",
    "from datetime import datetime,timedelta\n",
    "import datetime"
   ]
  },
  {
   "cell_type": "raw",
   "metadata": {},
   "source": [
    "读取数据"
   ]
  },
  {
   "cell_type": "code",
   "execution_count": 2,
   "metadata": {},
   "outputs": [],
   "source": [
    "g=open('life_cycle_data.csv',encoding='utf-8')\n",
    "life_data=pd.read_csv(g)\n",
    "g.close()"
   ]
  },
  {
   "cell_type": "raw",
   "metadata": {},
   "source": [
    "查看数据"
   ]
  },
  {
   "cell_type": "code",
   "execution_count": 3,
   "metadata": {},
   "outputs": [
    {
     "data": {
      "text/html": [
       "<div>\n",
       "<style scoped>\n",
       "    .dataframe tbody tr th:only-of-type {\n",
       "        vertical-align: middle;\n",
       "    }\n",
       "\n",
       "    .dataframe tbody tr th {\n",
       "        vertical-align: top;\n",
       "    }\n",
       "\n",
       "    .dataframe thead th {\n",
       "        text-align: right;\n",
       "    }\n",
       "</style>\n",
       "<table border=\"1\" class=\"dataframe\">\n",
       "  <thead>\n",
       "    <tr style=\"text-align: right;\">\n",
       "      <th></th>\n",
       "      <th>company_flag</th>\n",
       "      <th>cust_code</th>\n",
       "      <th>last_order_time</th>\n",
       "      <th>first_diff</th>\n",
       "      <th>last_two_order_time</th>\n",
       "      <th>two_diff</th>\n",
       "    </tr>\n",
       "  </thead>\n",
       "  <tbody>\n",
       "    <tr>\n",
       "      <th>0</th>\n",
       "      <td>AK</td>\n",
       "      <td>36189144</td>\n",
       "      <td>2020/5/17</td>\n",
       "      <td>1</td>\n",
       "      <td>2020/5/6</td>\n",
       "      <td>11</td>\n",
       "    </tr>\n",
       "    <tr>\n",
       "      <th>1</th>\n",
       "      <td>AK</td>\n",
       "      <td>36189161</td>\n",
       "      <td>2020/5/17</td>\n",
       "      <td>1</td>\n",
       "      <td>2020/5/14</td>\n",
       "      <td>3</td>\n",
       "    </tr>\n",
       "    <tr>\n",
       "      <th>2</th>\n",
       "      <td>AK</td>\n",
       "      <td>36189406</td>\n",
       "      <td>2020/5/17</td>\n",
       "      <td>1</td>\n",
       "      <td>2020/5/15</td>\n",
       "      <td>2</td>\n",
       "    </tr>\n",
       "    <tr>\n",
       "      <th>3</th>\n",
       "      <td>AK</td>\n",
       "      <td>36189728</td>\n",
       "      <td>2020/5/17</td>\n",
       "      <td>1</td>\n",
       "      <td>2020/5/9</td>\n",
       "      <td>8</td>\n",
       "    </tr>\n",
       "    <tr>\n",
       "      <th>4</th>\n",
       "      <td>AK</td>\n",
       "      <td>36266284</td>\n",
       "      <td>2020/5/17</td>\n",
       "      <td>1</td>\n",
       "      <td>2020/5/14</td>\n",
       "      <td>3</td>\n",
       "    </tr>\n",
       "  </tbody>\n",
       "</table>\n",
       "</div>"
      ],
      "text/plain": [
       "  company_flag  cust_code last_order_time  first_diff last_two_order_time  \\\n",
       "0           AK   36189144       2020/5/17           1            2020/5/6   \n",
       "1           AK   36189161       2020/5/17           1           2020/5/14   \n",
       "2           AK   36189406       2020/5/17           1           2020/5/15   \n",
       "3           AK   36189728       2020/5/17           1            2020/5/9   \n",
       "4           AK   36266284       2020/5/17           1           2020/5/14   \n",
       "\n",
       "   two_diff  \n",
       "0        11  \n",
       "1         3  \n",
       "2         2  \n",
       "3         8  \n",
       "4         3  "
      ]
     },
     "execution_count": 3,
     "metadata": {},
     "output_type": "execute_result"
    }
   ],
   "source": [
    "life_data.head()"
   ]
  },
  {
   "cell_type": "code",
   "execution_count": 4,
   "metadata": {},
   "outputs": [
    {
     "data": {
      "text/plain": [
       "company_flag           object\n",
       "cust_code               int64\n",
       "last_order_time        object\n",
       "first_diff              int64\n",
       "last_two_order_time    object\n",
       "two_diff                int64\n",
       "dtype: object"
      ]
     },
     "execution_count": 4,
     "metadata": {},
     "output_type": "execute_result"
    }
   ],
   "source": [
    "life_data.dtypes"
   ]
  },
  {
   "cell_type": "code",
   "execution_count": 5,
   "metadata": {},
   "outputs": [
    {
     "data": {
      "text/plain": [
       "company_flag           False\n",
       "cust_code              False\n",
       "last_order_time        False\n",
       "first_diff             False\n",
       "last_two_order_time     True\n",
       "two_diff               False\n",
       "dtype: bool"
      ]
     },
     "execution_count": 5,
     "metadata": {},
     "output_type": "execute_result"
    }
   ],
   "source": [
    "life_data.isnull().any()"
   ]
  },
  {
   "cell_type": "raw",
   "metadata": {},
   "source": [
    "去重操作"
   ]
  },
  {
   "cell_type": "code",
   "execution_count": 6,
   "metadata": {},
   "outputs": [],
   "source": [
    "cust_flag=life_data['company_flag'].drop_duplicates()"
   ]
  },
  {
   "cell_type": "code",
   "execution_count": 7,
   "metadata": {},
   "outputs": [
    {
     "data": {
      "text/plain": [
       "97"
      ]
     },
     "execution_count": 7,
     "metadata": {},
     "output_type": "execute_result"
    }
   ],
   "source": [
    "len(cust_flag)"
   ]
  },
  {
   "cell_type": "raw",
   "metadata": {},
   "source": [
    "规则方法的定义："
   ]
  },
  {
   "cell_type": "code",
   "execution_count": 8,
   "metadata": {},
   "outputs": [],
   "source": [
    "def cycle(z):\n",
    "    a=int(z[3])\n",
    "    b=int(z[5])\n",
    "    if a<=5 and b<=5:\n",
    "        c='高活跃'\n",
    "    elif (a>5 and a<=14 and b>5 and b<=14)or (a<=5 and b>5 and b<=14) or (a>5 and a<=14 and b<=5):\n",
    "        c='中活跃'    \n",
    "    elif (a>14 and a<=30 and b>14 and b<=30) or (a<30 and b>14 and b<=30) or (a>14 and a<=30 and b<30):\n",
    "        c='低活跃'\n",
    "    elif a<=30 and b>=30:\n",
    "        c='潜在活跃'\n",
    "    elif a>30 and a<=60:\n",
    "        c='休眠用户'\n",
    "    elif a>60 and a<=90:\n",
    "        c='流失用户'\n",
    "    elif b>90:\n",
    "        c='转新用户'\n",
    "    else:\n",
    "        c='流失用户'\n",
    "    return c\n"
   ]
  },
  {
   "cell_type": "raw",
   "metadata": {},
   "source": [
    "定义数据框"
   ]
  },
  {
   "cell_type": "code",
   "execution_count": 9,
   "metadata": {},
   "outputs": [],
   "source": [
    "life_cycle_data=pd.DataFrame(columns=['company_flag','cust_code','last_order_time','first_diff','last_two_order_time','two_diff','cycle ','day_id'])"
   ]
  },
  {
   "cell_type": "code",
   "execution_count": 10,
   "metadata": {},
   "outputs": [
    {
     "data": {
      "text/html": [
       "<div>\n",
       "<style scoped>\n",
       "    .dataframe tbody tr th:only-of-type {\n",
       "        vertical-align: middle;\n",
       "    }\n",
       "\n",
       "    .dataframe tbody tr th {\n",
       "        vertical-align: top;\n",
       "    }\n",
       "\n",
       "    .dataframe thead th {\n",
       "        text-align: right;\n",
       "    }\n",
       "</style>\n",
       "<table border=\"1\" class=\"dataframe\">\n",
       "  <thead>\n",
       "    <tr style=\"text-align: right;\">\n",
       "      <th></th>\n",
       "      <th>company_flag</th>\n",
       "      <th>cust_code</th>\n",
       "      <th>last_order_time</th>\n",
       "      <th>first_diff</th>\n",
       "      <th>last_two_order_time</th>\n",
       "      <th>two_diff</th>\n",
       "      <th>cycle</th>\n",
       "      <th>day_id</th>\n",
       "    </tr>\n",
       "  </thead>\n",
       "  <tbody>\n",
       "  </tbody>\n",
       "</table>\n",
       "</div>"
      ],
      "text/plain": [
       "Empty DataFrame\n",
       "Columns: [company_flag, cust_code, last_order_time, first_diff, last_two_order_time, two_diff, cycle , day_id]\n",
       "Index: []"
      ]
     },
     "execution_count": 10,
     "metadata": {},
     "output_type": "execute_result"
    }
   ],
   "source": [
    "life_cycle_data.head()"
   ]
  },
  {
   "cell_type": "code",
   "execution_count": 11,
   "metadata": {},
   "outputs": [
    {
     "name": "stdout",
     "output_type": "stream",
     "text": [
      "开始计算生命周期\n"
     ]
    }
   ],
   "source": [
    "company_flag1=[]\n",
    "x1=[]\n",
    "y1=[]\n",
    "m1=[]\n",
    "n1=[]\n",
    "print(\"开始计算生命周期\")\n",
    "for i in range(len(cust_flag)):\n",
    "    #print(i)\n",
    "    flag_data=life_data[life_data['company_flag']==cust_flag.iloc[i]]\n",
    "    flag_data=flag_data.sort_values(by=['company_flag','first_diff'],ascending=True)\n",
    "    flag_data=flag_data.reset_index(drop=True)\n",
    "    company_flag=cust_flag.iloc[i]\n",
    "    company_flag1.append(company_flag)\n",
    "    #取行数\n",
    "    nl=flag_data.count()\n",
    "    n=nl.first_diff\n",
    "    a=np.round(n*0.25)\n",
    "    x=flag_data.iloc[int(a)].first_diff\n",
    "    x1.append(x)\n",
    "    a1=np.round(n*0.5)\n",
    "    y=flag_data.iloc[int(a1)].first_diff\n",
    "    y1.append(y)\n",
    "    a2=np.round(n*0.7)\n",
    "    try:\n",
    "        m=flag_data.iloc[int(a2)].first_diff\n",
    "    except:\n",
    "        m=0\n",
    "    m1.append(m)\n",
    "    a3=np.round(n*0.9)\n",
    "    try:\n",
    "        n=flag_data.iloc[int(a3)].first_diff\n",
    "    except:\n",
    "        n=0\n",
    "    n1.append(n)\n",
    "    #print(x,y,m,n)\n",
    "    flag_data['cycle']=flag_data.apply(cycle,axis=1)\n",
    "    day_id=(datetime.datetime.now()+datetime.timedelta(days=-1)).strftime(\"%Y-%m-%d\")\n",
    "    flag_data['day_id']=day_id\n",
    "    #print(flag_data)\n",
    "    life_cycle_data=pd.concat([life_cycle_data,flag_data],axis=0)"
   ]
  },
  {
   "cell_type": "code",
   "execution_count": 12,
   "metadata": {},
   "outputs": [
    {
     "data": {
      "text/html": [
       "<div>\n",
       "<style scoped>\n",
       "    .dataframe tbody tr th:only-of-type {\n",
       "        vertical-align: middle;\n",
       "    }\n",
       "\n",
       "    .dataframe tbody tr th {\n",
       "        vertical-align: top;\n",
       "    }\n",
       "\n",
       "    .dataframe thead th {\n",
       "        text-align: right;\n",
       "    }\n",
       "</style>\n",
       "<table border=\"1\" class=\"dataframe\">\n",
       "  <thead>\n",
       "    <tr style=\"text-align: right;\">\n",
       "      <th></th>\n",
       "      <th>company_flag</th>\n",
       "      <th>cust_code</th>\n",
       "      <th>last_order_time</th>\n",
       "      <th>first_diff</th>\n",
       "      <th>last_two_order_time</th>\n",
       "      <th>two_diff</th>\n",
       "      <th>cycle</th>\n",
       "      <th>day_id</th>\n",
       "      <th>cycle</th>\n",
       "    </tr>\n",
       "  </thead>\n",
       "  <tbody>\n",
       "    <tr>\n",
       "      <th>0</th>\n",
       "      <td>AK</td>\n",
       "      <td>36189144</td>\n",
       "      <td>2020/5/17</td>\n",
       "      <td>1</td>\n",
       "      <td>2020/5/6</td>\n",
       "      <td>11</td>\n",
       "      <td>NaN</td>\n",
       "      <td>2021-02-21</td>\n",
       "      <td>中活跃</td>\n",
       "    </tr>\n",
       "    <tr>\n",
       "      <th>1</th>\n",
       "      <td>AK</td>\n",
       "      <td>36189161</td>\n",
       "      <td>2020/5/17</td>\n",
       "      <td>1</td>\n",
       "      <td>2020/5/14</td>\n",
       "      <td>3</td>\n",
       "      <td>NaN</td>\n",
       "      <td>2021-02-21</td>\n",
       "      <td>高活跃</td>\n",
       "    </tr>\n",
       "    <tr>\n",
       "      <th>2</th>\n",
       "      <td>AK</td>\n",
       "      <td>36189406</td>\n",
       "      <td>2020/5/17</td>\n",
       "      <td>1</td>\n",
       "      <td>2020/5/15</td>\n",
       "      <td>2</td>\n",
       "      <td>NaN</td>\n",
       "      <td>2021-02-21</td>\n",
       "      <td>高活跃</td>\n",
       "    </tr>\n",
       "    <tr>\n",
       "      <th>3</th>\n",
       "      <td>AK</td>\n",
       "      <td>36189728</td>\n",
       "      <td>2020/5/17</td>\n",
       "      <td>1</td>\n",
       "      <td>2020/5/9</td>\n",
       "      <td>8</td>\n",
       "      <td>NaN</td>\n",
       "      <td>2021-02-21</td>\n",
       "      <td>中活跃</td>\n",
       "    </tr>\n",
       "    <tr>\n",
       "      <th>4</th>\n",
       "      <td>AK</td>\n",
       "      <td>36266284</td>\n",
       "      <td>2020/5/17</td>\n",
       "      <td>1</td>\n",
       "      <td>2020/5/14</td>\n",
       "      <td>3</td>\n",
       "      <td>NaN</td>\n",
       "      <td>2021-02-21</td>\n",
       "      <td>高活跃</td>\n",
       "    </tr>\n",
       "  </tbody>\n",
       "</table>\n",
       "</div>"
      ],
      "text/plain": [
       "  company_flag cust_code last_order_time first_diff last_two_order_time  \\\n",
       "0           AK  36189144       2020/5/17          1            2020/5/6   \n",
       "1           AK  36189161       2020/5/17          1           2020/5/14   \n",
       "2           AK  36189406       2020/5/17          1           2020/5/15   \n",
       "3           AK  36189728       2020/5/17          1            2020/5/9   \n",
       "4           AK  36266284       2020/5/17          1           2020/5/14   \n",
       "\n",
       "  two_diff cycle       day_id cycle  \n",
       "0       11    NaN  2021-02-21   中活跃  \n",
       "1        3    NaN  2021-02-21   高活跃  \n",
       "2        2    NaN  2021-02-21   高活跃  \n",
       "3        8    NaN  2021-02-21   中活跃  \n",
       "4        3    NaN  2021-02-21   高活跃  "
      ]
     },
     "execution_count": 12,
     "metadata": {},
     "output_type": "execute_result"
    }
   ],
   "source": [
    "life_cycle_data.head()"
   ]
  },
  {
   "cell_type": "code",
   "execution_count": 13,
   "metadata": {},
   "outputs": [
    {
     "data": {
      "text/plain": [
       "211026"
      ]
     },
     "execution_count": 13,
     "metadata": {},
     "output_type": "execute_result"
    }
   ],
   "source": [
    "len(life_cycle_data)"
   ]
  },
  {
   "cell_type": "raw",
   "metadata": {},
   "source": [
    "数据空值的填充"
   ]
  },
  {
   "cell_type": "code",
   "execution_count": 14,
   "metadata": {},
   "outputs": [],
   "source": [
    "life_cycle_data['cycle']=life_cycle_data['cycle'].fillna('流失用户')"
   ]
  },
  {
   "cell_type": "code",
   "execution_count": 15,
   "metadata": {},
   "outputs": [],
   "source": [
    "cyclelife_cycle_data_result=life_cycle_data[['day_id','company_flag','cust_code','cycle']]"
   ]
  },
  {
   "cell_type": "code",
   "execution_count": 16,
   "metadata": {},
   "outputs": [
    {
     "data": {
      "text/html": [
       "<div>\n",
       "<style scoped>\n",
       "    .dataframe tbody tr th:only-of-type {\n",
       "        vertical-align: middle;\n",
       "    }\n",
       "\n",
       "    .dataframe tbody tr th {\n",
       "        vertical-align: top;\n",
       "    }\n",
       "\n",
       "    .dataframe thead th {\n",
       "        text-align: right;\n",
       "    }\n",
       "</style>\n",
       "<table border=\"1\" class=\"dataframe\">\n",
       "  <thead>\n",
       "    <tr style=\"text-align: right;\">\n",
       "      <th></th>\n",
       "      <th>day_id</th>\n",
       "      <th>company_flag</th>\n",
       "      <th>cust_code</th>\n",
       "      <th>cycle</th>\n",
       "    </tr>\n",
       "  </thead>\n",
       "  <tbody>\n",
       "    <tr>\n",
       "      <th>0</th>\n",
       "      <td>2021-02-21</td>\n",
       "      <td>AK</td>\n",
       "      <td>36189144</td>\n",
       "      <td>中活跃</td>\n",
       "    </tr>\n",
       "    <tr>\n",
       "      <th>1</th>\n",
       "      <td>2021-02-21</td>\n",
       "      <td>AK</td>\n",
       "      <td>36189161</td>\n",
       "      <td>高活跃</td>\n",
       "    </tr>\n",
       "    <tr>\n",
       "      <th>2</th>\n",
       "      <td>2021-02-21</td>\n",
       "      <td>AK</td>\n",
       "      <td>36189406</td>\n",
       "      <td>高活跃</td>\n",
       "    </tr>\n",
       "    <tr>\n",
       "      <th>3</th>\n",
       "      <td>2021-02-21</td>\n",
       "      <td>AK</td>\n",
       "      <td>36189728</td>\n",
       "      <td>中活跃</td>\n",
       "    </tr>\n",
       "    <tr>\n",
       "      <th>4</th>\n",
       "      <td>2021-02-21</td>\n",
       "      <td>AK</td>\n",
       "      <td>36266284</td>\n",
       "      <td>高活跃</td>\n",
       "    </tr>\n",
       "  </tbody>\n",
       "</table>\n",
       "</div>"
      ],
      "text/plain": [
       "       day_id company_flag cust_code cycle\n",
       "0  2021-02-21           AK  36189144   中活跃\n",
       "1  2021-02-21           AK  36189161   高活跃\n",
       "2  2021-02-21           AK  36189406   高活跃\n",
       "3  2021-02-21           AK  36189728   中活跃\n",
       "4  2021-02-21           AK  36266284   高活跃"
      ]
     },
     "execution_count": 16,
     "metadata": {},
     "output_type": "execute_result"
    }
   ],
   "source": [
    "cyclelife_cycle_data_result.head()"
   ]
  },
  {
   "cell_type": "code",
   "execution_count": null,
   "metadata": {},
   "outputs": [],
   "source": []
  },
  {
   "cell_type": "code",
   "execution_count": null,
   "metadata": {},
   "outputs": [],
   "source": []
  }
 ],
 "metadata": {
  "kernelspec": {
   "display_name": "Python 3",
   "language": "python",
   "name": "python3"
  },
  "language_info": {
   "codemirror_mode": {
    "name": "ipython",
    "version": 3
   },
   "file_extension": ".py",
   "mimetype": "text/x-python",
   "name": "python",
   "nbconvert_exporter": "python",
   "pygments_lexer": "ipython3",
   "version": "3.8.5"
  }
 },
 "nbformat": 4,
 "nbformat_minor": 4
}
